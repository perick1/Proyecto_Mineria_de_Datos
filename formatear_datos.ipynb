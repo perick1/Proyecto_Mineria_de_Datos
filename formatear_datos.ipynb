{
 "cells": [
  {
   "cell_type": "code",
   "execution_count": null,
   "source": [
    "import pandas as pd\r\n",
    "import numpy as np\r\n",
    "\r\n",
    "fecha = '20200706'\r\n",
    "\r\n",
    "df0 = pd.read_csv(\"20211812_Matrícula_Ed_Superior_2010_PUBL_MRUN.csv\", sep = \";\")\r\n",
    "df1 = pd.read_csv(fecha + \"_Matrícula_Ed_Superior_2011_PUBL_MRUN.csv\", sep = \";\")\r\n",
    "print(\"1\")\r\n",
    "df2 = pd.read_csv(fecha + \"_Matrícula_Ed_Superior_2012_PUBL_MRUN.csv\", sep = \";\")\r\n",
    "df3 = pd.read_csv(fecha + \"_Matrícula_Ed_Superior_2013_PUBL_MRUN.csv\", sep = \";\")\r\n",
    "print(\"2\")\r\n",
    "df4 = pd.read_csv(fecha + \"_Matrícula_Ed_Superior_2014_PUBL_MRUN.csv\", sep = \";\")\r\n",
    "df5 = pd.read_csv(fecha + \"_Matrícula_Ed_Superior_2015_PUBL_MRUN.csv\", sep = \";\")\r\n",
    "print(\"3\")\r\n",
    "df6 = pd.read_csv(fecha + \"_Matrícula_Ed_Superior_2016_PUBL_MRUN.csv\", sep = \";\")\r\n",
    "df7 = pd.read_csv(fecha + \"_Matrícula_Ed_Superior_2017_PUBL_MRUN.csv\", sep = \";\")\r\n",
    "print(\"4\")\r\n",
    "df8 = pd.read_csv(fecha + \"_Matrícula_Ed_Superior_2018_PUBL_MRUN.csv\", sep = \";\")\r\n",
    "df9 = pd.read_csv(fecha + \"_Matrícula_Ed_Superior_2019_PUBL_MRUN.csv\", sep = \";\")\r\n",
    "print(\"5\")"
   ],
   "outputs": [],
   "metadata": {}
  },
  {
   "cell_type": "code",
   "execution_count": null,
   "source": [
    "d = [df0, df1, df2, df3, df4, df5, df6, df7, df8, df9]\r\n",
    "total_datos_faltantes, anno, porcentaje = [], [], []\r\n",
    "i = 2010\r\n",
    "\r\n",
    "for df in d:\r\n",
    "    print(i)\r\n",
    "    datos_faltantes = 0\r\n",
    "    for c in list(df):\r\n",
    "        vacios = df[[c]].query(c+\"==' '\")\r\n",
    "        datos_faltantes += len(vacios)\r\n",
    "    total_datos_faltantes.append(datos_faltantes)\r\n",
    "    anno.append(i)\r\n",
    "    t = len(df)*len(list(df))*1.0\r\n",
    "    porcentaje.append((datos_faltantes/t)*100)\r\n",
    "    \r\n",
    "    i+=1\r\n",
    "\r\n",
    "pd.DataFrame({\"anio\":anno, \"datos faltantes\": total_datos_faltantes, \"porcentaje\": porcentaje}).to_csv('datos_faltantes.csv',index=False)"
   ],
   "outputs": [],
   "metadata": {}
  },
  {
   "cell_type": "code",
   "execution_count": null,
   "source": [
    "d = [df0, df1, df2, df3, df4, df5, df6, df7, df8, df9]\r\n",
    "\r\n",
    "for i in range(len(d)):\r\n",
    "    print(i)\r\n",
    "    d[i] = d[i].replace(r'^\\s+$', np.nan, regex=True)\r\n",
    "    d[i][\"anio_ing_carr_act\"] = d[i][\"anio_ing_carr_act\"].replace(9995, np.nan, regex=True)\r\n",
    "    d[i][\"anio_ing_carr_act\"] = d[i][\"anio_ing_carr_act\"].replace(0, np.nan, regex=True)\r\n",
    "    d[i][\"anio_ing_carr_ori\"] = d[i][\"anio_ing_carr_ori\"].replace(9995, np.nan, regex=True)\r\n",
    "    d[i][\"FEC_NAC_ALU\"] = d[i][\"FEC_NAC_ALU\"].replace(\"190001\", np.nan, regex=True)\r\n",
    "    d[i][\"FEC_NAC_ALU\"] = d[i][\"FEC_NAC_ALU\"].replace(190001, np.nan, regex=True)\r\n",
    "    d[i] = d[i].replace(\"SIN INFORMACION\", np.nan, regex=True)\r\n",
    "    d[i][[\"valor_arancel\"]] = d[i][[\"valor_arancel\"]].astype(np.float64)\r\n",
    "    name = f'{2010+i}'\r\n",
    "    d[i].to_csv(name+'.csv',index=False)"
   ],
   "outputs": [],
   "metadata": {}
  }
 ],
 "metadata": {
  "kernelspec": {
   "name": "python3",
   "display_name": "Python 3.8.5 64-bit"
  },
  "language_info": {
   "codemirror_mode": {
    "name": "ipython",
    "version": 3
   },
   "file_extension": ".py",
   "mimetype": "text/x-python",
   "name": "python",
   "nbconvert_exporter": "python",
   "pygments_lexer": "ipython3",
   "version": "3.8.5"
  },
  "interpreter": {
   "hash": "1baa965d5efe3ac65b79dfc60c0d706280b1da80fedb7760faf2759126c4f253"
  }
 },
 "nbformat": 4,
 "nbformat_minor": 4
}