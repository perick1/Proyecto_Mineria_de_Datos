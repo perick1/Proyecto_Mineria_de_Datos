{
 "cells": [
  {
   "cell_type": "code",
   "execution_count": 18,
   "metadata": {},
   "outputs": [],
   "source": [
    "import pandas as pd\n",
    "import numpy as np\n",
    "\n",
    "df1 = pd.read_csv(\"20200706_Matrícula_Ed_Superior_2011_PUBL_MRUN.csv\", sep = \";\")\n",
    "df2 = pd.read_csv(\"20200706_Matrícula_Ed_Superior_2012_PUBL_MRUN.csv\", sep = \";\")"
   ]
  },
  {
   "cell_type": "code",
   "execution_count": 2,
   "metadata": {},
   "outputs": [
    {
     "name": "stderr",
     "output_type": "stream",
     "text": [
      "C:\\Users\\Javi\\AppData\\Roaming\\Python\\Python38\\site-packages\\IPython\\core\\interactiveshell.py:3145: DtypeWarning: Columns (2,4) have mixed types.Specify dtype option on import or set low_memory=False.\n",
      "  has_raised = await self.run_ast_nodes(code_ast.body, cell_name,\n",
      "C:\\Users\\Javi\\AppData\\Roaming\\Python\\Python38\\site-packages\\IPython\\core\\interactiveshell.py:3145: DtypeWarning: Columns (2,4,15,23,24,25) have mixed types.Specify dtype option on import or set low_memory=False.\n",
      "  has_raised = await self.run_ast_nodes(code_ast.body, cell_name,\n"
     ]
    }
   ],
   "source": [
    "df3 = pd.read_csv(\"20200706_Matrícula_Ed_Superior_2013_PUBL_MRUN.csv\", sep = \";\")\n",
    "df4 = pd.read_csv(\"20200706_Matrícula_Ed_Superior_2014_PUBL_MRUN.csv\", sep = \";\")"
   ]
  },
  {
   "cell_type": "code",
   "execution_count": 3,
   "metadata": {},
   "outputs": [
    {
     "name": "stderr",
     "output_type": "stream",
     "text": [
      "C:\\Users\\Javi\\AppData\\Roaming\\Python\\Python38\\site-packages\\IPython\\core\\interactiveshell.py:3145: DtypeWarning: Columns (2,4,15,24) have mixed types.Specify dtype option on import or set low_memory=False.\n",
      "  has_raised = await self.run_ast_nodes(code_ast.body, cell_name,\n",
      "C:\\Users\\Javi\\AppData\\Roaming\\Python\\Python38\\site-packages\\IPython\\core\\interactiveshell.py:3145: DtypeWarning: Columns (2,4,15,34) have mixed types.Specify dtype option on import or set low_memory=False.\n",
      "  has_raised = await self.run_ast_nodes(code_ast.body, cell_name,\n"
     ]
    }
   ],
   "source": [
    "df5 = pd.read_csv(\"20200706_Matrícula_Ed_Superior_2015_PUBL_MRUN.csv\", sep = \";\")\n",
    "df6 = pd.read_csv(\"20200706_Matrícula_Ed_Superior_2016_PUBL_MRUN.csv\", sep = \";\")"
   ]
  },
  {
   "cell_type": "code",
   "execution_count": 4,
   "metadata": {},
   "outputs": [],
   "source": [
    "df7 = pd.read_csv(\"20200706_Matrícula_Ed_Superior_2017_PUBL_MRUN.csv\", sep = \";\")\n",
    "df8 = pd.read_csv(\"20200706_Matrícula_Ed_Superior_2018_PUBL_MRUN.csv\", sep = \";\")"
   ]
  },
  {
   "cell_type": "code",
   "execution_count": 5,
   "metadata": {},
   "outputs": [],
   "source": [
    "df9 = pd.read_csv(\"20200706_Matrícula_Ed_Superior_2019_PUBL_MRUN.csv\", sep = \";\")\n",
    "df10 = pd.read_csv(\"20200706_Matrícula_Ed_Superior_2020_PUBL_MRUN.csv\", sep = \";\")"
   ]
  },
  {
   "cell_type": "code",
   "execution_count": 26,
   "metadata": {},
   "outputs": [
    {
     "name": "stdout",
     "output_type": "stream",
     "text": [
      "2011\n"
     ]
    },
    {
     "name": "stderr",
     "output_type": "stream",
     "text": [
      "C:\\Users\\Javi\\AppData\\Roaming\\Python\\Python38\\site-packages\\numpy\\lib\\arraysetops.py:580: FutureWarning: elementwise comparison failed; returning scalar instead, but in the future will perform elementwise comparison\n",
      "  mask |= (ar1 == a)\n"
     ]
    },
    {
     "name": "stdout",
     "output_type": "stream",
     "text": [
      "2012\n",
      "2013\n",
      "2014\n",
      "2015\n",
      "2016\n",
      "2017\n",
      "2018\n",
      "2019\n",
      "2020\n"
     ]
    }
   ],
   "source": [
    "d = [df1, df2, df3, df4, df5, df6, df7, df8, df9, df10]\n",
    "total_datos_faltantes, anno, porcentaje = [], [], []\n",
    "i = 2011\n",
    "\n",
    "for df in d:\n",
    "    print(i)\n",
    "    datos_faltantes = 0\n",
    "    for c in list(df):\n",
    "        vacios = df[[c]].query(c+\"==' '\")\n",
    "        datos_faltantes += len(vacios)\n",
    "    total_datos_faltantes.append(datos_faltantes)\n",
    "    anno.append(i)\n",
    "    t = len(df)*len(list(df))*1.0\n",
    "    porcentaje.append((datos_faltantes/t)*100)\n",
    "    \n",
    "    i+=1\n",
    "\n",
    "pd.DataFrame({\"anio\":anno, \"datos faltantes\": total_datos_faltantes, \"porcentaje\": porcentaje}).to_csv('datos_faltantes.csv',index=False)"
   ]
  },
  {
   "cell_type": "code",
   "execution_count": 6,
   "metadata": {},
   "outputs": [
    {
     "name": "stdout",
     "output_type": "stream",
     "text": [
      "0\n",
      "1\n",
      "2\n",
      "3\n",
      "4\n",
      "5\n",
      "6\n",
      "7\n",
      "8\n",
      "9\n"
     ]
    }
   ],
   "source": [
    "d = [df1, df2, df3, df4, df5, df6, df7, df8, df9, df10]\n",
    "\n",
    "for i in range(len(d)):\n",
    "    print(i)\n",
    "    d[i] = d[i].replace(r'^\\s+$', np.nan, regex=True)\n",
    "    d[i][\"anio_ing_carr_act\"] = d[i][\"anio_ing_carr_act\"].replace(9995, np.nan, regex=True)\n",
    "    d[i][\"anio_ing_carr_act\"] = d[i][\"anio_ing_carr_act\"].replace(0, np.nan, regex=True)\n",
    "    d[i][\"anio_ing_carr_ori\"] = d[i][\"anio_ing_carr_ori\"].replace(9995, np.nan, regex=True)\n",
    "    d[i][\"FEC_NAC_ALU\"] = d[i][\"FEC_NAC_ALU\"].replace(\"190001\", np.nan, regex=True)\n",
    "    d[i][\"FEC_NAC_ALU\"] = d[i][\"FEC_NAC_ALU\"].replace(190001, np.nan, regex=True)\n",
    "    d[i] = d[i].replace(\"SIN INFORMACION\", np.nan, regex=True)\n",
    "    d[i][[\"valor_arancel\"]] = d[i][[\"valor_arancel\"]].astype(np.float64)\n",
    "    name = f'{2011+i}'\n",
    "    d[i].to_csv(name+'.csv',index=False)\n"
   ]
  },
  {
   "cell_type": "code",
   "execution_count": null,
   "metadata": {},
   "outputs": [],
   "source": [
    "df1, df2, df3, df4, df5, df6, df7, df8, df9, df10 = d[0], d[1], d[2], d[3], d[4], d[5], d[6], d[7], d[8], d[9]"
   ]
  },
  {
   "cell_type": "code",
   "execution_count": null,
   "metadata": {},
   "outputs": [],
   "source": []
  }
 ],
 "metadata": {
  "kernelspec": {
   "display_name": "Python 3",
   "language": "python",
   "name": "python3"
  },
  "language_info": {
   "codemirror_mode": {
    "name": "ipython",
    "version": 3
   },
   "file_extension": ".py",
   "mimetype": "text/x-python",
   "name": "python",
   "nbconvert_exporter": "python",
   "pygments_lexer": "ipython3",
   "version": "3.8.5"
  }
 },
 "nbformat": 4,
 "nbformat_minor": 4
}
