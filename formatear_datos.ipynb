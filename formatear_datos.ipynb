{
 "cells": [
  {
   "cell_type": "code",
   "execution_count": null,
   "source": [
    "import pandas as pd\n",
    "import numpy as np\n",
    "\n",
    "fecha = '20200706'\n",
    "\n",
    "df0 = pd.read_csv(fecha + \"_Matrícula_Ed_Superior_2010_PUBL_MRUN.csv\", sep = \";\")\n",
    "df1 = pd.read_csv(fecha + \"_Matrícula_Ed_Superior_2011_PUBL_MRUN.csv\", sep = \";\")\n",
    "df2 = pd.read_csv(fecha + \"_Matrícula_Ed_Superior_2012_PUBL_MRUN.csv\", sep = \";\")\n",
    "df3 = pd.read_csv(fecha + \"_Matrícula_Ed_Superior_2013_PUBL_MRUN.csv\", sep = \";\")\n",
    "df4 = pd.read_csv(fecha + \"_Matrícula_Ed_Superior_2014_PUBL_MRUN.csv\", sep = \";\")\n",
    "df5 = pd.read_csv(fecha + \"_Matrícula_Ed_Superior_2015_PUBL_MRUN.csv\", sep = \";\")\n",
    "df6 = pd.read_csv(fecha + \"_Matrícula_Ed_Superior_2016_PUBL_MRUN.csv\", sep = \";\")\n",
    "df7 = pd.read_csv(fecha + \"_Matrícula_Ed_Superior_2017_PUBL_MRUN.csv\", sep = \";\")\n",
    "df8 = pd.read_csv(fecha + \"_Matrícula_Ed_Superior_2018_PUBL_MRUN.csv\", sep = \";\")\n",
    "df9 = pd.read_csv(fecha + \"_Matrícula_Ed_Superior_2019_PUBL_MRUN.csv\", sep = \";\")"
   ],
   "outputs": [],
   "metadata": {}
  },
  {
   "cell_type": "code",
   "execution_count": null,
   "source": [
    "d = [df0, df1, df2, df3, df4, df5, df6, df7, df8, df9]\n",
    "total_datos_faltantes, anno, porcentaje = [], [], []\n",
    "i = 2010\n",
    "\n",
    "for df in d:\n",
    "    print(i)\n",
    "    datos_faltantes = 0\n",
    "    for c in list(df):\n",
    "        vacios = df[[c]].query(c+\"==' '\")\n",
    "        datos_faltantes += len(vacios)\n",
    "    total_datos_faltantes.append(datos_faltantes)\n",
    "    anno.append(i)\n",
    "    t = len(df)*len(list(df))*1.0\n",
    "    porcentaje.append((datos_faltantes/t)*100)\n",
    "    \n",
    "    i+=1\n",
    "\n",
    "pd.DataFrame({\"anio\":anno, \"datos faltantes\": total_datos_faltantes, \"porcentaje\": porcentaje}).to_csv('datos_faltantes.csv',index=False)"
   ],
   "outputs": [],
   "metadata": {}
  },
  {
   "cell_type": "code",
   "execution_count": null,
   "source": [
    "d = [df0, df1, df2, df3, df4, df5, df6, df7, df8, df9]\n",
    "\n",
    "for i in range(len(d)):\n",
    "    print(i)\n",
    "    d[i] = d[i].replace(r'^\\s+$', np.nan, regex=True)\n",
    "    d[i][\"anio_ing_carr_act\"] = d[i][\"anio_ing_carr_act\"].replace(9995, np.nan, regex=True)\n",
    "    d[i][\"anio_ing_carr_act\"] = d[i][\"anio_ing_carr_act\"].replace(0, np.nan, regex=True)\n",
    "    d[i][\"anio_ing_carr_ori\"] = d[i][\"anio_ing_carr_ori\"].replace(9995, np.nan, regex=True)\n",
    "    d[i][\"FEC_NAC_ALU\"] = d[i][\"FEC_NAC_ALU\"].replace(\"190001\", np.nan, regex=True)\n",
    "    d[i][\"FEC_NAC_ALU\"] = d[i][\"FEC_NAC_ALU\"].replace(190001, np.nan, regex=True)\n",
    "    d[i] = d[i].replace(\"SIN INFORMACION\", np.nan, regex=True)\n",
    "    d[i][[\"valor_arancel\"]] = d[i][[\"valor_arancel\"]].astype(np.float64)\n",
    "    name = f'{2010+i}'\n",
    "    d[i].to_csv(name+'.csv',index=False)"
   ],
   "outputs": [],
   "metadata": {}
  }
 ],
 "metadata": {
  "kernelspec": {
   "display_name": "Python 3",
   "language": "python",
   "name": "python3"
  },
  "language_info": {
   "codemirror_mode": {
    "name": "ipython",
    "version": 3
   },
   "file_extension": ".py",
   "mimetype": "text/x-python",
   "name": "python",
   "nbconvert_exporter": "python",
   "pygments_lexer": "ipython3",
   "version": "3.8.5"
  }
 },
 "nbformat": 4,
 "nbformat_minor": 4
}