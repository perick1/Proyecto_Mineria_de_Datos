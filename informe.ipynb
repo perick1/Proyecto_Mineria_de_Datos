{
 "cells": [
  {
   "cell_type": "markdown",
   "source": [
    "# Introducción"
   ],
   "metadata": {}
  },
  {
   "cell_type": "markdown",
   "source": [
    "# Exploración de Datos"
   ],
   "metadata": {}
  },
  {
   "cell_type": "markdown",
   "source": [
    "# Preguntas y Problemas\n",
    "1. ¿Se puede predecir las características de las matrículas para años futuros considerando los datos actuales? \n",
    "2. ¿Cuáles son las características y tendencias de las personas que se cambian de carrera? \n",
    "3. ¿Cuánto valor le agrega la acreditación a una carrera?\n",
    "4. ¿Existe una relación entre costo de carrera y otras variables (numéricas?)\n",
    "\n"
   ],
   "metadata": {}
  },
  {
   "cell_type": "markdown",
   "source": [
    "# Anexos"
   ],
   "metadata": {}
  },
  {
   "cell_type": "markdown",
   "source": [],
   "metadata": {}
  }
 ],
 "metadata": {
  "orig_nbformat": 4,
  "language_info": {
   "name": "python"
  }
 },
 "nbformat": 4,
 "nbformat_minor": 2
}