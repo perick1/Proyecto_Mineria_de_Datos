{
 "cells": [
  {
   "cell_type": "markdown",
   "metadata": {},
   "source": [
    "## Pregunta 4: ¿Existe una relación entre costo de carrera y otras variables?\n",
    "\n",
    "**Esta pregunta está mayormente respondida y diseñada por Adriana Concha**\n",
    " \n",
    "### Metodología \n",
    "\n",
    "Siguiendo la sugerencia del cuerpo docente para el Hito 2 y aplicando las nuevas técnicas de minería de datos aprendidas en el curso desde entonces, se decidió responder esta esta pregunta utilizando **Reglas de asociación**. En la iteración anterior se propuso utilizar clustering, sin embargo, la búsqueda de reglas de asociación se adapta mejor a la búsqueda de relaciones entre variables. \n",
    "El objetivo de esta pregunta es extraer reglas y relaciones entre la variable valor del arancel \n",
    "Y otras variables de las matrículas de educación superior , para poder realizar un análisis sobre éstas.\n",
    "\n",
    "\n",
    "Propuesta experimental:\n",
    "- Se toma una muestra de los datos: Se escoge una muestra random del 30% del total de registros por año.\n",
    "\n",
    "- Se seleccionan los atributos: ``jornada``, ``rango_edad``,``dur_total_carr``,``tipo_inst_3``,``area_conocimiento``,\n",
    "``region_sede``, ``acreditada_inst``, ``valor_arancel``, ``valor_matricula``.\n",
    "\n",
    "- Se categoriza el valor de arancel en tres parámetros (por año):\n",
    "    - Percentil 0 al 32: Arancel bajo (AB)\n",
    "    - Percentil 33 al 66: Arancel medio (AM)\n",
    "    - Percentil 67 al 100: Arancel alto (AA)\n",
    "    \n",
    "- Se categoriza el valor de la matrícula en tres parámetros (por año):\n",
    "    - Percentil 0 al 32: Matrícula baja (MB)\n",
    "    - Percentil 33 al 66: Matrícula media (MM)\n",
    "    - Percentil 67 al 100: Matrícula alta (MA)\n",
    "    \n",
    "- Se utiliza el **algoritmo apriori** para generar reglas de asociación sobre los itemsets más frecuentes. Específicamente, se buscan reglas de asociación con cada categoría de Arancel en el consecuente. Se utiliza el parámetro minlen igual a 4, para encontrar itemset de al menos 4 elementos.\n",
    " \n",
    "- Se utiliza como validación las métricas **support** sobre 4% y **confidence** sobre 30%. Además, se ordenan las reglas generadas de acuerdo a su **lift**, para conocer la efectividad de las predicciones. Para esta pregunta, nos interesan aquellas reglas con lift superior a 1.\n",
    "\n",
    "- A partir de los resultados obtenidos, se generan las siguientes visualizaciones:\n",
    "  - Scatterplots para comparar confidence, support y lift para las reglas generadas.\n",
    "  - Grafos para visualizar los principales items que llevan a cada categoría de arancel. \n",
    "\n",
    "\n",
    "### Implementación\n"
   ]
  }
 ],
 "metadata": {
  "kernelspec": {
   "display_name": "Python 3",
   "language": "python",
   "name": "python3"
  },
  "language_info": {
   "codemirror_mode": {
    "name": "ipython",
    "version": 3
   },
   "file_extension": ".py",
   "mimetype": "text/x-python",
   "name": "python",
   "nbconvert_exporter": "python",
   "pygments_lexer": "ipython3",
   "version": "3.8.5"
  }
 },
 "nbformat": 4,
 "nbformat_minor": 4
}
