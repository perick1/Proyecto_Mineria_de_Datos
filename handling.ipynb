{
 "cells": [
  {
   "cell_type": "markdown",
   "source": [
    "## Carga de datos"
   ],
   "metadata": {}
  },
  {
   "cell_type": "code",
   "execution_count": 20,
   "source": [
    "import pandas as pd\r\n",
    "import numpy as np\r\n",
    "\r\n",
    "df0 = pd.read_csv(u\"datos_limpios/2010.csv\")\r\n",
    "df1 = pd.read_csv(u\"datos_limpios/2011.csv\")\r\n",
    "df2 = pd.read_csv(u\"datos_limpios/2012.csv\")\r\n",
    "df3 = pd.read_csv(u\"datos_limpios/2013.csv\")\r\n",
    "df4 = pd.read_csv(u\"datos_limpios/2014.csv\")\r\n",
    "print('50%')\r\n",
    "df5 = pd.read_csv(u\"datos_limpios/2015.csv\")\r\n",
    "df6 = pd.read_csv(u\"datos_limpios/2016.csv\")\r\n",
    "df7 = pd.read_csv(u\"datos_limpios/2017.csv\")\r\n",
    "df8 = pd.read_csv(u\"datos_limpios/2018.csv\")\r\n",
    "df9 = pd.read_csv(u\"datos_limpios/2019.csv\")\r\n",
    "print('100%')"
   ],
   "outputs": [
    {
     "output_type": "stream",
     "name": "stdout",
     "text": [
      "50%\n"
     ]
    },
    {
     "output_type": "stream",
     "name": "stderr",
     "text": [
      "C:\\Users\\Javi\\AppData\\Roaming\\Python\\Python38\\site-packages\\IPython\\core\\interactiveshell.py:3145: DtypeWarning: Columns (45) have mixed types.Specify dtype option on import or set low_memory=False.\n",
      "  has_raised = await self.run_ast_nodes(code_ast.body, cell_name,\n"
     ]
    },
    {
     "output_type": "stream",
     "name": "stdout",
     "text": [
      "100%\n"
     ]
    }
   ],
   "metadata": {}
  },
  {
   "cell_type": "markdown",
   "source": [
    "# Exploración\r\n",
    "\r\n",
    "Primero buscamos correlaciones en los datos, para ello aplicamos la técnica *One Hot* sobre las columnas con variables categóricas y luego buscamos una correlación entre las variables. "
   ],
   "metadata": {}
  },
  {
   "cell_type": "code",
   "execution_count": null,
   "source": [
    "df_all = pd.concat([df0, df1, df2, df3, df4, df5, df6, df7, df8, df9])\r\n",
    "correlation = df_all.corr()\r\n",
    "correlation.to_csv('corr/corrAll.csv')"
   ],
   "outputs": [],
   "metadata": {}
  },
  {
   "cell_type": "code",
   "execution_count": null,
   "source": [
    "df_sub = pd.concat([df1, df5, df9])\r\n",
    "\r\n",
    "df_sub_datatypes = (pd.DataFrame(df_sub.dtypes)\r\n",
    "                    .reset_index()\r\n",
    "                    .rename(columns = {0:'tipo', 'index' : 'columna'})\r\n",
    "                    )\r\n",
    "                    \r\n",
    "cols_name = list(df_sub)\r\n",
    "init = cols_name.index(\"costo_proceso_titulacion\") + 1\r\n",
    "for i in range(init, len(df_sub_datatypes)):\r\n",
    "    if str(df_sub_datatypes.iloc[i][1]) == 'object':\r\n",
    "        col_name = df_sub_datatypes.iloc[i][0]\r\n",
    "        # Columnas que no se consideran\r\n",
    "        if col_name in [\"provincia_sede\",\"codigo_unico\", \"nomb_inst\", \"nomb_sede\", \"nomb_carrera\", \"acre_inst_desde_hasta\", \"costo_obtencion_titulo_diploma\", \"costo_tit_explicacion_observacion\", \"costo_proceso_titulacion\"] :\r\n",
    "            continue\r\n",
    "        print(\"iniciando proceso para \" + col_name)\r\n",
    "        cols_name.remove(col_name)\r\n",
    "        df_one_hot = pd.get_dummies(df_sub[[col_name]], prefix=col_name)\r\n",
    "        print(\"guardando\")\r\n",
    "        df_one_hot.to_csv(\"one_hot/one_hot_\" + col_name + \".csv\", index = False)\r\n",
    "        print(\"done\")\r\n",
    "print(cols_name)"
   ],
   "outputs": [],
   "metadata": {}
  },
  {
   "cell_type": "code",
   "execution_count": null,
   "source": [
    "import pandas as pd\r\n",
    "\r\n",
    "cols_name = ['cat_periodo', 'codigo_unico', 'MRUN', 'GEN_ALU', 'FEC_NAC_ALU', 'anio_ing_carr_ori', 'sem_ing_carr_ori', 'anio_ing_carr_act', 'sem_ing_carr_act', 'cod_inst', 'nomb_inst', 'cod_sede', 'nomb_sede', 'cod_carrera', 'nomb_carrera', 'version', 'dur_estudio_carr', 'dur_proceso_tit', 'dur_total_carr', 'provincia_sede', 'valor_matricula', 'valor_arancel', 'codigo_demre', 'acre_inst_desde_hasta', 'acre_inst_anio', 'costo_proceso_titulacion', 'costo_obtencion_titulo_diploma', 'costo_tit_explicacion_observacion']\r\n",
    "ddf_sub_one_hot = pd.concat([df1, df5, df9])[cols_name]\r\n",
    "\r\n",
    "for col in list(df_sub):\r\n",
    "    if not (col in cols_name):\r\n",
    "        print(col)\r\n",
    "        df_aux = pd.read_csv(\"one_hot/one_hot_\" + col + \".csv\")\r\n",
    "        df_sub_one_hot = pd.merge(df_sub_one_hot, df_aux, left_index=True, right_index=True)\r\n",
    "\r\n",
    "df_sub_one_hot.to_csv(\"matriculas2011-2015-2019.csv\", index = False)"
   ],
   "outputs": [],
   "metadata": {}
  },
  {
   "cell_type": "code",
   "execution_count": 18,
   "source": [
    "corr_sub = df_sub_one_hot.corr()\r\n",
    "corr_sub.to_csv(\"corr/corr_2011_2015_2019_oneHot.csv\")"
   ],
   "outputs": [],
   "metadata": {}
  },
  {
   "cell_type": "code",
   "execution_count": 23,
   "source": [
    "d = [df0, df1, df2, df3, df4, df5, df6, df7, df8, df9]\r\n",
    "nulos, l, l_total, anno, porcentaje = [], [], [], [], []\r\n",
    "i = 2010\r\n",
    "\r\n",
    "for df in d:\r\n",
    "    n = 0\r\n",
    "    for v in list(df.isnull().sum()):\r\n",
    "        n += v\r\n",
    "    anno.append(i)\r\n",
    "    nulos.append(n)\r\n",
    "    t = len(df)*len(list(df))*1.0\r\n",
    "    l.append(len(df))\r\n",
    "    porcentaje.append((n/t)*100)\r\n",
    "    i+=1\r\n",
    "\r\n",
    "df_datos_faltantes = pd.read_csv('datos_faltantes.csv')"
   ],
   "outputs": [],
   "metadata": {}
  },
  {
   "cell_type": "code",
   "execution_count": 24,
   "source": [
    "import matplotlib.pyplot as plt\r\n",
    "import numpy as np\r\n",
    "\r\n",
    "plt.rcParams['figure.figsize'] = [11, 5.5]\r\n",
    "\r\n",
    "\r\n",
    "fig_total_datos = plt.figure()\r\n",
    "fig_total_datos.clf()\r\n",
    "ax_total_datos = fig_total_datos.add_subplot(111)\r\n",
    "#ax_total_datos.bar(anno, l, align='center', alpha=0.7, color = 'darkorange', label = \"Entradas en la tabla\")\r\n",
    "ax_total_datos.plot(anno, l, alpha=1, color = '#00d4f0', label = \"Entradas en la tabla\")\r\n",
    "ax_total_datos.plot(anno, l, 'o', alpha=1, color = '#071554', label = \"Entradas en la tabla\")\r\n",
    "ax_total_datos.set_ylabel(\"Total de datos\")\r\n",
    "ax_total_datos.set_xlabel(\"Año de los datos\")\r\n",
    "ax_total_datos.set_title(\"Cantidad de datos recolectados para cada año\")\r\n",
    "#set off Scientific notation from Y-axis\r\n",
    "ax_total_datos.get_yaxis().get_major_formatter().set_useOffset(False)\r\n",
    "ax_total_datos.get_yaxis().get_major_formatter().set_scientific(False)\r\n",
    "#ax_total_datos.legend(loc=\"best\")\r\n",
    "fig_total_datos.savefig(\"total_datos.png\", transparent=False)\r\n",
    "fig_total_datos.show()\r\n",
    "\r\n",
    "\r\n",
    "fig_porcentaje_nulo = plt.figure()\r\n",
    "fig_porcentaje_nulo.clf()\r\n",
    "ax_porcentaje_nulo = fig_porcentaje_nulo.add_subplot(111)\r\n",
    "graph = ax_porcentaje_nulo.bar(anno, porcentaje, align='center', color = '#071554', label = \"Porcentaje de datos nulos\")\r\n",
    "ax_porcentaje_nulo.bar([2016], [14], align='center', alpha=0)\r\n",
    "ax_porcentaje_nulo.set_ylabel(\"Porcentaje respecto al total de datos\")\r\n",
    "ax_porcentaje_nulo.set_xlabel(\"Año de los datos\")\r\n",
    "ax_porcentaje_nulo.set_title(\"Porcentaje de datos nulos en los datos recolectados para cada año\")\r\n",
    "#fig_porcentaje_nulo.legend(loc=\"upper left\")\r\n",
    "i = 0\r\n",
    "for p in graph:\r\n",
    "    width = p.get_width()\r\n",
    "    height = p.get_height()\r\n",
    "    x, y = p.get_xy()\r\n",
    "\r\n",
    "    num = str(porcentaje[i]).split(\".\")\r\n",
    "    t = num[0] +'.' + num[1][:2]+'%'\r\n",
    "    plt.text(x+width/2,\r\n",
    "             y+0.5+height*1,\r\n",
    "             t,\r\n",
    "             ha='center')\r\n",
    "             #weight='bold')\r\n",
    "    i+=1\r\n",
    "fig_porcentaje_nulo.savefig(\"porcentaje_datos_nulos.png\", transparent=False)\r\n",
    "fig_porcentaje_nulo.show()"
   ],
   "outputs": [
    {
     "output_type": "stream",
     "name": "stderr",
     "text": [
      "<ipython-input-24-53e2dbe34289>:21: UserWarning: Matplotlib is currently using module://ipykernel.pylab.backend_inline, which is a non-GUI backend, so cannot show the figure.\n",
      "  fig_total_datos.show()\n",
      "<ipython-input-24-53e2dbe34289>:48: UserWarning: Matplotlib is currently using module://ipykernel.pylab.backend_inline, which is a non-GUI backend, so cannot show the figure.\n",
      "  fig_porcentaje_nulo.show()\n"
     ]
    },
    {
     "output_type": "display_data",
     "data": {
      "image/png": "[encoded data removed]",
      "text/plain": [
       "<Figure size 792x396 with 1 Axes>"
      ]
     },
     "metadata": {
      "needs_background": "light"
     }
    },
    {
     "output_type": "display_data",
     "data": {
      "image/png": "[encoded data removed]",
      "text/plain": [
       "<Figure size 792x396 with 1 Axes>"
      ]
     },
     "metadata": {
      "needs_background": "light"
     }
    }
   ],
   "metadata": {}
  },
  {
   "cell_type": "code",
   "execution_count": null,
   "source": [
    "df_porcentaje_total = pd.DataFrame({\"porcentaje_total\":porcentaje})\r\n",
    "\r\n",
    "df_datos_faltantes[\"proporcion\"]=(100*df_datos_faltantes[[\"porcentaje\"]])/df_porcentaje_total[[\"porcentaje_total\"]]\r\n",
    "\r\n",
    "df_datos_faltantes[[\"porcentaje_total\"]]=df_porcentaje_total[[\"porcentaje_total\"]]\r\n",
    "df_datos_faltantes.rename(columns={\"porcentaje\":\"porcentaje_datos_faltantes\"}).to_csv(\"datos_faltantes.csv\", index = False)"
   ],
   "outputs": [],
   "metadata": {}
  },
  {
   "cell_type": "code",
   "execution_count": null,
   "source": [
    "# Esta celda se demora harto, hacerla correr con precaucion\r\n",
    "\r\n",
    "plt.rcParams['figure.figsize'] = [18, 15]\r\n",
    "df8.hist()\r\n",
    "pyplot.show()\r\n",
    "\r\n",
    "pd.plotting.scatter_matrix(df8)\r\n",
    "pyplot.show()"
   ],
   "outputs": [],
   "metadata": {}
  },
  {
   "cell_type": "markdown",
   "source": [
    "## Comportamiento del set de datos\r\n",
    "\r\n",
    "**¿Cómo se relaciona el área de conocimiento de la carrera con la edad y género de la persona que se matricula?**"
   ],
   "metadata": {}
  },
  {
   "cell_type": "code",
   "execution_count": 25,
   "source": [
    "# se analiza por año y luego se promedia\r\n",
    "d = [df0, df1, df2, df3, df4, df5, df6, df7, df8, df9]\r\n",
    "h1 = []\r\n",
    "i = 2010\r\n",
    "\r\n",
    "for df in d:\r\n",
    "    dfh = (df.query(\"area_conocimiento!='Sin área definida' and (nivel_global=='Pregrado' or nivel_global.isnull())\")[[\"GEN_ALU\",\"rango_edad\", \"area_conocimiento\"]]\r\n",
    "        .groupby(by=[\"GEN_ALU\",\"rango_edad\", \"area_conocimiento\"])\r\n",
    "        .size()\r\n",
    "        .reset_index()\r\n",
    "        .rename(columns = {0:'total'})\r\n",
    "        )\r\n",
    "    dfh[\"anio\"] = [i]*len(dfh)\r\n",
    "    i+=1\r\n",
    "\r\n",
    "    h1.append(dfh.copy())\r\n",
    "\r\n",
    "#concatenación y mapeo\r\n",
    "dfh1 = (pd.concat(h1)[[\"GEN_ALU\",\"rango_edad\", \"area_conocimiento\", \"total\"]]\r\n",
    "                 .groupby(by=[\"GEN_ALU\",\"rango_edad\", \"area_conocimiento\"])\r\n",
    "                 .mean()\r\n",
    "                 .reset_index()\r\n",
    "                )\r\n",
    "dfh1[[\"GEN_ALU\"]] = dfh1[[\"GEN_ALU\"]].replace({1:\"Hombre\", 2:\"Mujer\"})\r\n",
    "dfh1 = (dfh1.replace({\"SIN INFORMACION\": \"Sin información\", \"Ciencias Sociales\": \"C. Sociales\"}))"
   ],
   "outputs": [],
   "metadata": {}
  },
  {
   "cell_type": "code",
   "execution_count": 26,
   "source": [
    "a = (dfh1[[\"GEN_ALU\", \"area_conocimiento\", \"total\"]]\r\n",
    "        .sort_values(by=[\"GEN_ALU\", \"area_conocimiento\"])\r\n",
    "        .groupby(by=[\"GEN_ALU\", \"area_conocimiento\"])\r\n",
    "        .sum()\r\n",
    "        .reset_index()\r\n",
    "        )\r\n",
    "a[[\"total\"]] = a[[\"total\"]].astype(np.int64)\r\n",
    "a = a.rename(columns={\"area_conocimiento\":\"target\", \"GEN_ALU\":\"source\", \"total\":\"value\"})\r\n",
    "\r\n",
    "b = (dfh1[[\"rango_edad\", \"area_conocimiento\", \"total\"]]\r\n",
    "        .sort_values(by=[\"rango_edad\", \"area_conocimiento\"])\r\n",
    "        .groupby(by=[\"rango_edad\", \"area_conocimiento\"])\r\n",
    "        .sum()\r\n",
    "        .reset_index()\r\n",
    "        )\r\n",
    "b[[\"total\"]] = b[[\"total\"]].astype(np.int64)\r\n",
    "b = b.rename(columns={\"rango_edad\":\"target\", \"area_conocimiento\":\"source\", \"total\":\"value\"})\r\n",
    "\r\n",
    "df_sankey = pd.concat([a,b])\r\n",
    "df_sankey.to_csv(\"sankey_data.csv\", index=False)"
   ],
   "outputs": [],
   "metadata": {}
  },
  {
   "cell_type": "markdown",
   "source": [
    "**¿Existe una correlación entre el costo de las carreras y su ubicación geográfica? ¿Varía esto a través de los años?**"
   ],
   "metadata": {}
  },
  {
   "cell_type": "code",
   "execution_count": 27,
   "source": [
    "pd.set_option('display.float_format', lambda x: '%.2f' % x)\r\n",
    "\r\n",
    "d = [df1, df3, df5, df7, df9]\r\n",
    "h2 = []\r\n",
    "i = 2011\r\n",
    "\r\n",
    "for df in d:\r\n",
    "    try:\r\n",
    "        dfh = df.query(\"vigencia_carrera!='NO VIGENTE'\")\r\n",
    "    except:\r\n",
    "        dfh = df\r\n",
    "    dfh = (dfh[[\"codigo_unico\",\"valor_arancel\", \"region_sede\"]]\r\n",
    "           .drop_duplicates()[[\"region_sede\", \"valor_arancel\"]]\r\n",
    "           .groupby([\"region_sede\"])\r\n",
    "           .mean()\r\n",
    "           .reset_index()\r\n",
    "           .rename(columns = {\"valor_arancel\":'arancel_promedio_pesos'})\r\n",
    "        )\r\n",
    "    dfh[\"anio\"] = [i]*len(dfh)\r\n",
    "    i+=1\r\n",
    "    h2.append(dfh.copy())\r\n",
    "\r\n",
    "df_arancel_original = pd.concat(h2)\r\n",
    "\r\n",
    "df_UF = pd.read_csv(\"UF.csv\").rename(columns={\"Periodo\": \"anio\"})\r\n",
    "df_UF[\"UF\"] = df_UF[\"UF\"].astype(float)\r\n",
    "df_arancel_original = pd.merge(df_arancel_original, df_UF, how = \"inner\", on = [\"anio\"])\r\n",
    "df_arancel_original[\"arancel_promedio_UF\"] = df_arancel_original.arancel_promedio_pesos/df_arancel_original.UF\r\n",
    "df_arancel_original = df_arancel_original[[\"anio\", \"region_sede\", \"arancel_promedio_UF\"]].sort_values(\"anio\", ascending = False)\r\n",
    "\r\n",
    "df_arancel_mapeado = (df_arancel_original.replace({'Arica y Parinacota': 1, 'Tarapacá': 2, 'Antofagasta': 3, 'Atacama': 4, 'Coquimbo': 5, 'Valparaíso': 6, 'Metropolitana': 7, \"Lib. Gral B. O'Higgins\": 8, 'Maule': 9, 'Ñuble': 10, 'Biobío': 11, 'La Araucanía': 12, 'Los Ríos': 13, 'Los Lagos': 14, 'Aysén': 15, 'Magallanes': 16}))\r\n",
    "df_arancel_mapeo_regiones = pd.DataFrame({\"Region\": ['Arica y Parinacota', 'Tarapacá', 'Antofagasta', 'Atacama', 'Coquimbo', 'Valparaíso', 'Metropolitana', \"Lib. Gral B. O'Higgins\", 'Maule', 'Ñuble', 'Biobío', 'La Araucanía', 'Los Ríos', 'Los Lagos', 'Aysén', 'Magallanes'], \"Equivalente\": list(range(1,17))})"
   ],
   "outputs": [],
   "metadata": {}
  },
  {
   "cell_type": "code",
   "execution_count": null,
   "source": [
    "df_arancel_original.to_csv(\"h2_original.csv\", index=False, sep=';', decimal=',')"
   ],
   "outputs": [],
   "metadata": {}
  },
  {
   "cell_type": "code",
   "execution_count": null,
   "source": [
    "anio_list, region_sede_list, arancel_list = [], [], []\r\n",
    "for i in list(range(2011, 2021)):\r\n",
    "    anio_list.extend([i, i])\r\n",
    "    region_sede_list.extend([\"Galicia\", \"Canarias\"])\r\n",
    "    arancel_list.extend([51.17, 91.42])\r\n",
    "\r\n",
    "df_extremos = pd.DataFrame({\"anio\":anio_list, \"region_sede\":region_sede_list, \"arancel_promedio_UF\":arancel_list})\r\n",
    "\r\n",
    "pd.concat([df_extremos,df_arancel_original]).to_csv(\"arancel_original_2.csv\", index=False, sep=';', decimal=',')"
   ],
   "outputs": [],
   "metadata": {}
  }
 ],
 "metadata": {
  "kernelspec": {
   "name": "python3",
   "display_name": "Python 3.8.5 64-bit"
  },
  "language_info": {
   "codemirror_mode": {
    "name": "ipython",
    "version": 3
   },
   "file_extension": ".py",
   "mimetype": "text/x-python",
   "name": "python",
   "nbconvert_exporter": "python",
   "pygments_lexer": "ipython3",
   "version": "3.8.5"
  },
  "interpreter": {
   "hash": "1baa965d5efe3ac65b79dfc60c0d706280b1da80fedb7760faf2759126c4f253"
  }
 },
 "nbformat": 4,
 "nbformat_minor": 4
}