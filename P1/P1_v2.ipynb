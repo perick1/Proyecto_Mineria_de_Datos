{
 "cells": [
  {
   "cell_type": "code",
   "execution_count": 7,
   "metadata": {},
   "outputs": [],
   "source": [
    "import pandas as pd\n",
    "import numpy as np\n",
    "from sklearn.cluster import KMeans\n",
    "from scipy.cluster.hierarchy import dendrogram, linkage\n",
    "from sklearn.cluster import AgglomerativeClustering\n",
    "from matplotlib import pyplot as plt\n",
    "from sklearn.decomposition import PCA\n",
    "from sklearn.metrics import silhouette_score\n",
    "from sklearn.metrics.pairwise import euclidean_distances"
   ]
  },
  {
   "cell_type": "code",
   "execution_count": 8,
   "metadata": {},
   "outputs": [
    {
     "name": "stdout",
     "output_type": "stream",
     "text": [
      "{'rango_edad': {'20 a 24 años': 1, '15 a 19 años': 2, '35 a 39 años': 3, '25 a 29 años': 4, '30 a 34 años': 5, '40 y más años': 6}, 'tipo_inst_2': {'Universidades Privadas': 1, 'Universidades CRUCH': 2, 'Institutos Profesionales': 3, 'Centros de Formación Técnica': 4}, 'jornada': {'Diurno': 1, 'Vespertino': 2, 'A Distancia': 3, 'Otro': 4, 'Semipresencial': 5}, 'tipo_plan_carr': {'Plan Regular': 1, 'Plan Regular de Continuidad': 2, 'Plan Especial': 3}, 'region_sede': {'Metropolitana': 1, 'Coquimbo': 2, 'Tarapacá': 3, 'Arica y Parinacota': 4, 'Valparaíso': 5, 'Ñuble': 6, 'Antofagasta': 7, 'Atacama': 8, 'Biobío': 9, \"Lib. Gral B. O'Higgins\": 10, 'La Araucanía': 11, 'Maule': 12, 'Los Lagos': 13, 'Magallanes': 14, 'Los Ríos': 15, 'Aysén': 16}, 'nivel_carrera_2': {'Carreras Profesionales': 1, 'Carreras Técnicas': 2, 'Magister': 3, 'Postítulo': 4, 'Doctorado': 5}, 'requisito_ingreso': {'Educación Media': 1, 'Licenciatura': 2, 'Título Profesional': 4, 'Técnico de Nivel Superior': 5, 'Magíster': 6, 'Especialidad Médica u Odontológica': 7, 'Plan Común': 8, 'Ciclo Básico': 9, 'Postítulo': 10, 'Bachillerato': 11}, 'vigencia_carrera': {'VIGENTE CON ALUMNOS NUEVOS': 1, 'VIGENTE SIN ALUMNOS NUEVOS': 2}, 'area_conocimiento': {'Ciencias Sociales': 1, 'Administración y Comercio': 2, 'Arte y Arquitectura': 3, 'Tecnología': 4, 'Salud': 5, 'Ciencias Básicas': 6, 'Agropecuaria': 7, 'Educación': 8, 'Humanidades': 9, 'Derecho': 10, 'Sin área definida': 11}, 'acreditada_carr': {'NO ACREDITADA': 1, 'ACREDITADA': 2}, 'acreditada_inst': {'ACREDITADA': 1, 'NO ACREDITADA': 2}}\n"
     ]
    }
   ],
   "source": [
    "s_columns = [\"rango_edad\",\"tipo_inst_2\",\"jornada\",\"tipo_plan_carr\",\"region_sede\",\"nivel_carrera_2\",\"requisito_ingreso\", \\\n",
    "    \"vigencia_carrera\",\"area_conocimiento\",\"acreditada_carr\",\"acreditada_inst\",\"anio_ing_carr_ori\",\"sem_ing_carr_ori\", \\\n",
    "    \"anio_ing_carr_act\",\"sem_ing_carr_act\",\\\n",
    "    \"dur_total_carr\", \\\n",
    "    \"valor_matricula\",\"valor_arancel\"]\n",
    "# Saqué \"nomb_inst\", \"nomb_carrera\", \"dur_estudio_carr\",\"dur_proceso_tit\"\n",
    "\n",
    "path_to_2015 = \"../../Data/2015.csv\" # Hay que agregar el de cada uno.\n",
    "df = pd.read_csv(path_to_2015) \n",
    "select = df.loc[:, s_columns]\n",
    "all_dict = {}\n",
    "for column in select.select_dtypes('object'):\n",
    "    all_dict[column] = {value:i+1 for i, value in enumerate(select[column].unique()) if value is not np.nan}\n",
    "\n",
    "print(all_dict)\n",
    "all_dict[\"rango_edad\"] = {'15 a 19 años':1,'20 a 24 años':2, '35 a 39 años':3, '25 a 29 años':4, '30 a 34 años':5, '40 y más años':6}\n",
    "all_dict[\"nivel_carrera_2\"] = {'Carreras Técnicas':1, 'Carreras Profesionales':2, 'Magister':3, 'Postítulo':4, 'Doctorado':5}\n",
    "all_dict[\"acreditada_carr\"] = {\"NO ACREDITADA\":0, \"ACREDITADA\":1}\n",
    "all_dict[\"acreditada_inst\"] = {\"NO ACREDITADA\":0, \"ACREDITADA\":1}"
   ]
  },
  {
   "cell_type": "code",
   "execution_count": 9,
   "metadata": {},
   "outputs": [],
   "source": [
    "def sim_matrix(features, labels):\n",
    "    useful_labels = labels >= 0\n",
    "\n",
    "    # primero ordenamos los datos en base al cluster que pertencen\n",
    "    indices = np.argsort(labels[useful_labels])\n",
    "    sorted_features = features[useful_labels][indices]\n",
    "\n",
    "    # calculamos las distancias entre todos los puntos\n",
    "    d = euclidean_distances(sorted_features, sorted_features)\n",
    "    return d\n",
    "    \n",
    "def plotproxi(data, model):\n",
    "    fig, (ax1, ax2) = plt.subplots(1, 2, figsize=(20,5))\n",
    "\n",
    "    fig.suptitle(f\"{model.__class__.__name__}\")\n",
    "\n",
    "    ax1.scatter(data[:,0], data[:,1], c=model.labels_)\n",
    "\n",
    "    dist = sim_matrix(data, model.labels_)\n",
    "    im = ax2.imshow(dist, cmap=\"jet\")\n",
    "    fig.colorbar(im, ax=ax2)\n",
    "\n",
    "# Podemos seleccionar un atributo, y ordenar los clusters de acuerdo\n",
    "# a la cantidad de cierta caracteristica en el atributo.\n",
    "def right_tag(df, model,  n_clusters, col=\"area_conocimiento\", value=\"Ciencias Básicas\"):\n",
    "    indx = all_dict[col][value]\n",
    "    quantities = np.zeros(n_clusters)\n",
    "    for cluster in range(n_clusters):\n",
    "        count = df.loc[model.labels_==cluster,:][col].value_counts()\n",
    "        try: val = count.loc[indx]\n",
    "        except: val = 0\n",
    "        quantities[cluster] = val\n",
    "    neworder = np.argsort(quantities)\n",
    "    model.labels_ = np.array([neworder[label] for label in model.labels_])\n",
    "    #return "
   ]
  },
  {
   "cell_type": "code",
   "execution_count": 3,
   "metadata": {},
   "outputs": [
    {
     "ename": "NameError",
     "evalue": "name 'np' is not defined",
     "output_type": "error",
     "traceback": [
      "\u001b[1;31m---------------------------------------------------------------------------\u001b[0m",
      "\u001b[1;31mNameError\u001b[0m                                 Traceback (most recent call last)",
      "\u001b[1;32mC:\\Users\\ALONSO~1\\AppData\\Local\\Temp/ipykernel_26052/3185592391.py\u001b[0m in \u001b[0;36m<module>\u001b[1;34m\u001b[0m\n\u001b[0;32m      1\u001b[0m \u001b[0mused\u001b[0m \u001b[1;33m=\u001b[0m \u001b[1;36m10000\u001b[0m\u001b[1;33m\u001b[0m\u001b[1;33m\u001b[0m\u001b[0m\n\u001b[0;32m      2\u001b[0m \u001b[0mn_clus\u001b[0m \u001b[1;33m=\u001b[0m \u001b[1;36m20\u001b[0m \u001b[1;31m# Ideal: 20\u001b[0m\u001b[1;33m\u001b[0m\u001b[1;33m\u001b[0m\u001b[0m\n\u001b[1;32m----> 3\u001b[1;33m \u001b[0mnp\u001b[0m\u001b[1;33m.\u001b[0m\u001b[0mrandom\u001b[0m\u001b[1;33m.\u001b[0m\u001b[0mseed\u001b[0m\u001b[1;33m(\u001b[0m\u001b[1;36m10\u001b[0m\u001b[1;33m)\u001b[0m\u001b[1;33m\u001b[0m\u001b[1;33m\u001b[0m\u001b[0m\n\u001b[0m\u001b[0;32m      4\u001b[0m \u001b[0mn_years\u001b[0m \u001b[1;33m=\u001b[0m \u001b[1;36m10\u001b[0m\u001b[1;33m\u001b[0m\u001b[1;33m\u001b[0m\u001b[0m\n\u001b[0;32m      5\u001b[0m \u001b[0mndims\u001b[0m \u001b[1;33m=\u001b[0m \u001b[1;36m2\u001b[0m\u001b[1;33m\u001b[0m\u001b[1;33m\u001b[0m\u001b[0m\n",
      "\u001b[1;31mNameError\u001b[0m: name 'np' is not defined"
     ]
    }
   ],
   "source": [
    "used = 10000\n",
    "n_clus = 20 # Ideal: 20\n",
    "np.random.seed(10)\n",
    "n_years = 10\n",
    "ndims = 2\n",
    "\n",
    "select_columns = s_columns.copy()\n",
    "for nn in ['requisito_ingreso', 'vigencia_carrera']:\n",
    "    try: select_columns.remove(nn)\n",
    "    except: pass\n",
    "    try: all_dict.pop(nn)\n",
    "    except: pass\n",
    "\n",
    "macro_varancel = np.zeros(n_years)\n",
    "macro_vmatricula = np.zeros(n_years)\n",
    "macro_areaconocimiento = np.zeros(n_years, dtype='object')\n",
    "macro_acredcarr = np.zeros(n_years, dtype='object')\n",
    "\n",
    "centroid_coord = np.zeros((n_years, n_clus, ndims))\n",
    "for i in range(n_years):\n",
    "    path = f\"../../Data/201{i}.csv\" # Hay que agregar el de cada uno.\n",
    "    df = pd.read_csv(path, nrows=None)\n",
    "    sample = np.random.choice(len(df), used)\n",
    "\n",
    "    macro_varancel[i] = df[\"valor_arancel\"].mean()\n",
    "    macro_vmatricula[i] = df[\"valor_matricula\"].mean()\n",
    "    macro_acredcarr[i] = df[\"acreditada_carr\"].value_counts().index[0]\n",
    "    macro_areaconocimiento[i] = df[\"area_conocimiento\"].value_counts().index[0]\n",
    "    \n",
    "    #Se escoger al azar 'used' número de instancias.\n",
    "    df = df.loc[sample, select_columns]\n",
    "    for attribute in all_dict:\n",
    "        df[attribute] = df[attribute].map(all_dict[attribute])\n",
    "    df.iloc[:,:-2] = df.iloc[:,:-2].convert_dtypes(np.int32)\n",
    "    dumm = pd.get_dummies(df, prefix=select_columns[:-2], columns=select_columns[:-2])\n",
    "\n",
    "    print(\"n° de instancias: \", len(df))\n",
    "    \n",
    "    kmean = KMeans(n_clusters=n_clus).fit(dumm.iloc[:,2:])\n",
    "    print(f\"Inercia del año 201{i}\", kmean.inertia_)\n",
    "    right_tag(df,kmean,n_clus) # Nuevas labels por contenido.\n",
    "\n",
    "    pca = PCA(n_components=ndims, random_state=1).fit(dumm.iloc[:,2:])\n",
    "    new_space = pca.transform(dumm.iloc[:,2:])\n",
    "    plotproxi(new_space, kmean)\n",
    "    plt.show()\n",
    "    centroid_coord[i, :, :] = pca.transform(kmean.cluster_centers_)\n",
    "    \n",
    "    print(\"n° de instancias usadas: \", used)\n",
    "    print(\"Silhouete del espacio PCA con KMeans Clustering\\t\", silhouette_score(new_space, kmean.labels_))\n",
    "    print(\"Silhouette del espacio one-hot con KMeans Clustering\\t\", silhouette_score(dumm.iloc[:,2:], kmean.labels_))\n",
    "    print()\n",
    "\n",
    "for centroid in range(n_clus):\n",
    "    a = centroid_coord[:-1,centroid,:]\n",
    "    print(a[:,0])\n",
    "    b = centroid_coord[1:,centroid,:]\n",
    "    fig, ax = plt.subplots(1, 1, figsize=(10,5))\n",
    "    ax.set_xlim(-1.5,1.5)\n",
    "    ax.set_ylim(-1.5,1.5)\n",
    "    ax.quiver(a[:,0], a[:,1], b[:,0]-a[:,0], b[:,1]-a[:,1], scale_units='xy', angles='xy', scale=1)\n",
    "    plt.show()\n"
   ]
  }
 ],
 "metadata": {
  "interpreter": {
   "hash": "c58e563863d9147ec3259e642e066da6998a3e13a64c04c07998b894a4c3e7bd"
  },
  "kernelspec": {
   "display_name": "Python 3.8.6 64-bit ('Algos-y-Estructuras': venv)",
   "language": "python",
   "name": "python3"
  },
  "language_info": {
   "codemirror_mode": {
    "name": "ipython",
    "version": 3
   },
   "file_extension": ".py",
   "mimetype": "text/x-python",
   "name": "python",
   "nbconvert_exporter": "python",
   "pygments_lexer": "ipython3",
   "version": "3.8.6"
  },
  "orig_nbformat": 4
 },
 "nbformat": 4,
 "nbformat_minor": 2
}
